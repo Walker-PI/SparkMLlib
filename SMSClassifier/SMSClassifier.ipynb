{
 "cells": [
  {
   "cell_type": "code",
   "execution_count": 1,
   "metadata": {},
   "outputs": [],
   "source": [
    "from pyspark.ml.feature import IndexToString, Word2Vec, StringIndexer\n",
    "from pyspark.ml.classification import MultilayerPerceptronClassifier\n",
    "from pyspark.ml.evaluation import MulticlassClassificationEvaluator\n",
    "from pyspark import SparkContext, SparkConf, SQLContext\n",
    "from pyspark.ml import Pipeline\n",
    "from pyspark.sql.functions import col"
   ]
  },
  {
   "cell_type": "code",
   "execution_count": 2,
   "metadata": {},
   "outputs": [],
   "source": [
    "# 设置运行环境\n",
    "\n",
    "conf = SparkConf()\n",
    "conf.setAppName(\"SpamMessageClassifier\")\n",
    "conf.setMaster(\"spark://172.19.96.58:7077\")\n",
    "sc.stop()\n",
    "sc = SparkContext(conf = conf)\n",
    "sqlCtx = SQLContext(sc)"
   ]
  },
  {
   "cell_type": "code",
   "execution_count": 3,
   "metadata": {},
   "outputs": [],
   "source": [
    "# 从数据集读取手机短信作为处理数据源，在此基础上创建 DataFrame，\n",
    "# 该 DataFrame 包含lableCol、contextCol 两个列\n",
    "\n",
    "data_path = \"SMSSpamCollection\"\n",
    "messageRDD = sc.textFile(data_path).map(lambda line:line.split(\"\\t\")).map(lambda line:[line[0],line[1].split()])\n",
    "\n",
    "smsDF = sqlCtx.createDataFrame(messageRDD).toDF(\"labelCol\", \"contextCol\")"
   ]
  },
  {
   "cell_type": "code",
   "execution_count": 4,
   "metadata": {},
   "outputs": [],
   "source": [
    "# 将原始的文本标签{\"Ham\", \"Spam\"} 转换成数值类型\n",
    "\n",
    "labelIndexer = StringIndexer(inputCol=\"labelCol\", \n",
    "                             outputCol=\"indexedLabelCol\").fit(smsDF)\n",
    "\n",
    "# 使用 Word2Vec 将短信文本转化成数值型词向量\n",
    "word2Vec = Word2Vec(inputCol=\"contextCol\",\n",
    "                   outputCol=\"featuresCol\",\n",
    "                   vectorSize=100,\n",
    "                   minCount=1)"
   ]
  },
  {
   "cell_type": "code",
   "execution_count": 5,
   "metadata": {},
   "outputs": [],
   "source": [
    "layers = [100,6,5,2]\n",
    "\n",
    "# 使用 MultilayerPerceptronClassifier 训练一个多层感知模型\n",
    "\n",
    "mpc = MultilayerPerceptronClassifier(featuresCol=\"featuresCol\",\n",
    "                                    labelCol=\"indexedLabelCol\",\n",
    "                                    predictionCol=\"predictionCol\",\n",
    "                                    maxIter=128,\n",
    "                                    seed=1234,\n",
    "                                    layers=layers,\n",
    "                                    blockSize=512)"
   ]
  },
  {
   "cell_type": "code",
   "execution_count": 6,
   "metadata": {},
   "outputs": [],
   "source": [
    "# 使用 IndexToString 将预测结果的数值标签转化成原始的文本标签\n",
    "\n",
    "labelConverter = IndexToString(inputCol=\"predictionCol\",\n",
    "                              outputCol=\"predictedLabelCol\",\n",
    "                              labels=labelIndexer.labels)"
   ]
  },
  {
   "cell_type": "code",
   "execution_count": 7,
   "metadata": {},
   "outputs": [],
   "source": [
    "# 将原始文本数据按照 8:2 的比例分成训练和测试数据集合\n",
    "trainingData,testData = smsDF.randomSplit([0.8, 0.2])"
   ]
  },
  {
   "cell_type": "code",
   "execution_count": 8,
   "metadata": {},
   "outputs": [],
   "source": [
    "# 使用 Pipeline 对数据进行处理和模型的训练\n",
    "pipeline = Pipeline(stages = [labelIndexer, word2Vec, mpc, labelConverter])\n",
    "model = pipeline.fit(trainingData)\n",
    "preResultDF = model.transform(testData)"
   ]
  },
  {
   "cell_type": "code",
   "execution_count": 9,
   "metadata": {},
   "outputs": [
    {
     "name": "stdout",
     "output_type": "stream",
     "text": [
      "+--------------------+--------+-----------------+\n",
      "|          contextCol|labelCol|predictedLabelCol|\n",
      "+--------------------+--------+-----------------+\n",
      "|[\"Are, you, comin...|     ham|              ham|\n",
      "|[\"EY!, CALM, DOWN...|     ham|              ham|\n",
      "|[\"HELLO, U.CALL, ...|     ham|              ham|\n",
      "|[\"Hi, its, Kate, ...|     ham|              ham|\n",
      "|[\"Petey, boy, whe...|     ham|              ham|\n",
      "|[\"Si.como, no?!li...|     ham|              ham|\n",
      "|[\"YEH, I, AM, DEF...|     ham|              ham|\n",
      "|[&lt;#&gt;, %of, ...|     ham|              ham|\n",
      "|[(And, my, man, c...|     ham|              ham|\n",
      "|[(I, should, add,...|     ham|              ham|\n",
      "|[*, Was, a, nice,...|     ham|              ham|\n",
      "|[1), Go, to, writ...|     ham|              ham|\n",
      "|               [645]|     ham|              ham|\n",
      "|[;-(, oh, well,, ...|     ham|              ham|\n",
      "|[Abeg,, make, pro...|     ham|              ham|\n",
      "|[Actually, i, del...|     ham|              ham|\n",
      "|[Ahhh., Work., I,...|     ham|              ham|\n",
      "|[Aight, yo,, dats...|     ham|              ham|\n",
      "|[Aight,, I'll, te...|     ham|              ham|\n",
      "|[Aiyah, e, rain, ...|     ham|              ham|\n",
      "+--------------------+--------+-----------------+\n",
      "only showing top 20 rows\n",
      "\n"
     ]
    }
   ],
   "source": [
    "# 使用模型对测试数据进行分类处理并在屏幕打印 20 条数据\n",
    "preResultDF.select(\n",
    "    col(\"contextCol\"),\n",
    "    col(\"labelCol\"),\n",
    "    col(\"predictedLabelCol\")).show(20)"
   ]
  },
  {
   "cell_type": "code",
   "execution_count": 10,
   "metadata": {},
   "outputs": [
    {
     "name": "stdout",
     "output_type": "stream",
     "text": [
      "Testing Accuracy is 93.3183%.\n"
     ]
    }
   ],
   "source": [
    "# 测试数据集上测试模型的预测精确度\n",
    "evaluator = MulticlassClassificationEvaluator(\n",
    "    predictionCol=\"predictionCol\",\n",
    "    labelCol=\"indexedLabelCol\")\n",
    "\n",
    "predictionAccuracy = evaluator.evaluate(preResultDF)\n",
    "\n",
    "print(\"Testing Accuracy is {:.4f}\".format(predictionAccuracy*100) + \"%.\")\n",
    "\n"
   ]
  },
  {
   "cell_type": "code",
   "execution_count": 11,
   "metadata": {},
   "outputs": [],
   "source": [
    "sc.stop()"
   ]
  },
  {
   "cell_type": "code",
   "execution_count": null,
   "metadata": {},
   "outputs": [],
   "source": []
  }
 ],
 "metadata": {
  "kernelspec": {
   "display_name": "Python 3",
   "language": "python",
   "name": "python3"
  },
  "language_info": {
   "codemirror_mode": {
    "name": "ipython",
    "version": 3
   },
   "file_extension": ".py",
   "mimetype": "text/x-python",
   "name": "python",
   "nbconvert_exporter": "python",
   "pygments_lexer": "ipython3",
   "version": "3.6.8"
  }
 },
 "nbformat": 4,
 "nbformat_minor": 2
}
