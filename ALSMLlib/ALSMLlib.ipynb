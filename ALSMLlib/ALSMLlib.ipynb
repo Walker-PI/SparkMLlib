{
 "cells": [
  {
   "cell_type": "code",
   "execution_count": 1,
   "metadata": {},
   "outputs": [],
   "source": [
    "from pyspark import SparkContext, SparkConf, SQLContext\n",
    "from pyspark.ml.feature import IndexToString, StringIndexer\n",
    "from pyspark.ml import Pipeline\n",
    "from pyspark.ml.recommendation import ALS\n",
    "from pyspark.ml.evaluation import RegressionEvaluator"
   ]
  },
  {
   "cell_type": "code",
   "execution_count": 3,
   "metadata": {},
   "outputs": [],
   "source": [
    "# 设置运行环境\n",
    "\n",
    "conf = SparkConf()\n",
    "conf.setAppName(\"CF\")\n",
    "conf.setMaster(\"spark://172.19.99.121:7077\")\n",
    "#sc.stop()\n",
    "sc = SparkContext(conf = conf)\n",
    "sqlCtx = SQLContext(sc)"
   ]
  },
  {
   "cell_type": "code",
   "execution_count": 4,
   "metadata": {},
   "outputs": [],
   "source": [
    "# 从数据集读取数据作为处理数据源，在此基础上创建 DataFrame\n",
    "\n",
    "data_path = \"dataset.csv\"\n",
    "datasetRDD = sc.textFile(data_path).map(lambda line:line.split(\"::\"))\n",
    "datasetRDD = datasetRDD.map(lambda line:(int(line[0]), line[1], line[2], float(line[3])))\n",
    "\n",
    "dataDF = sqlCtx.createDataFrame(datasetRDD)\n",
    "dataDF = dataDF.toDF(\"user_id\", \"user_name\", \"problem_name\", \"ac_rate\")"
   ]
  },
  {
   "cell_type": "code",
   "execution_count": 5,
   "metadata": {},
   "outputs": [
    {
     "data": {
      "text/plain": [
       "[(1, 'tourist', 'C - Party', 4.2105),\n",
       " (1, 'tourist', 'F - Koala and Notebook', 2.0),\n",
       " (1, 'tourist', 'G1 - Into Blocks (easy version)', 2.0),\n",
       " (1, 'tourist', 'E2 - Rotate Columns (hard version)', 2.0),\n",
       " (1, 'tourist', 'E1 - Rotate Columns (easy version)', 2.0),\n",
       " (1, 'tourist', 'D - Cow and Snacks', 2.0),\n",
       " (1, 'tourist', 'C - Paint the Digits', 5.0),\n",
       " (1, 'tourist', 'B - Koala and Lights', 2.0),\n",
       " (1, 'tourist', 'A - Paint the Numbers', 2.0),\n",
       " (1, 'tourist', 'I - Unusual Graph', 2.0)]"
      ]
     },
     "execution_count": 5,
     "metadata": {},
     "output_type": "execute_result"
    }
   ],
   "source": [
    "datasetRDD.take(10)"
   ]
  },
  {
   "cell_type": "code",
   "execution_count": 6,
   "metadata": {},
   "outputs": [],
   "source": [
    "# 将原始的 {problem_name} 转换成数值类型\n",
    "\n",
    "problemIndexer = StringIndexer(inputCol=\"problem_name\",outputCol=\"problem_id\").fit(dataDF)\n"
   ]
  },
  {
   "cell_type": "code",
   "execution_count": 7,
   "metadata": {},
   "outputs": [],
   "source": [
    "# 使用 Pipeline 对数据进行处理  为数据添加 problem_id\n",
    "\n",
    "pipeline = Pipeline(stages=[problemIndexer])\n",
    "datasetDF = pipeline.fit(dataDF).transform(dataDF)"
   ]
  },
  {
   "cell_type": "code",
   "execution_count": 8,
   "metadata": {},
   "outputs": [],
   "source": [
    "# 将数据按照比例随机划分为训练集和测试集\n",
    "\n",
    "import time\n",
    "\n",
    "training_data,test_data = datasetDF.randomSplit([0.8, 0.2], seed=time.time())"
   ]
  },
  {
   "cell_type": "code",
   "execution_count": 9,
   "metadata": {},
   "outputs": [],
   "source": [
    "# 使用 ASL 训练推荐系统模型\n",
    "\n",
    "# 显性反馈\n",
    "alsExplicit = ALS(rank=10,\n",
    "                  maxIter=10,\n",
    "                  regParam=0.20,\n",
    "                  userCol=\"user_id\", \n",
    "                  itemCol=\"problem_id\",\n",
    "                  ratingCol=\"ac_rate\",\n",
    "                  implicitPrefs=False,\n",
    "                  nonnegative=False,\n",
    "                  coldStartStrategy=\"drop\") # 设置 冷启动 确保没有NAN的值\n",
    "\n",
    "modelExplicit = alsExplicit.fit(training_data)\n",
    "\n",
    "\n",
    "# 隐性反馈\n",
    "alsImplicit = ALS(rank=10,\n",
    "                  maxIter=10,\n",
    "                  regParam=0,\n",
    "                  userCol=\"user_id\",\n",
    "                  itemCol=\"problem_id\",\n",
    "                  ratingCol=\"ac_rate\",\n",
    "                  implicitPrefs=True,\n",
    "                  nonnegative=False,\n",
    "                  coldStartStrategy=\"drop\")  # 设置 冷启动 确保没有NAN的值\n",
    "\n",
    "modelImplicit = alsImplicit.fit(training_data)\n"
   ]
  },
  {
   "cell_type": "code",
   "execution_count": 10,
   "metadata": {},
   "outputs": [
    {
     "name": "stdout",
     "output_type": "stream",
     "text": [
      "+------------------+--------------------+-------+----------+\n",
      "|         user_name|        problem_name|ac_rate|prediction|\n",
      "+------------------+--------------------+-------+----------+\n",
      "|           nvmdava|A - Game With Sticks|    2.0| 2.4346688|\n",
      "|    abhay7bhardwaj|A - Game With Sticks|    5.0| 2.3345034|\n",
      "|             sahal|A - Game With Sticks|    5.0| 2.5367494|\n",
      "|               mi_|A - Game With Sticks|    2.0| 2.5611837|\n",
      "|           1807006|A - Game With Sticks|    2.0| 2.8562415|\n",
      "|       Toirov_Sadi|A - Game With Sticks| 3.3333| 2.7396178|\n",
      "|      kamesh.joshi|A - Game With Sticks|    2.0| 2.7287405|\n",
      "|         Nishabila|A - Game With Sticks| 3.3333| 2.6567192|\n",
      "|            Monzur|A - Game With Sticks|    4.0| 2.6132348|\n",
      "|giorgi.adeishvili2|A - Game With Sticks|   1.25| 2.9471872|\n",
      "|         piyal_043|A - Game With Sticks|    2.0|  2.674006|\n",
      "|    innocent_coder|A - Game With Sticks|    2.0| 2.8207867|\n",
      "|            gmdsam|A - Game With Sticks|    2.0| 2.5837677|\n",
      "|       DebSourav33|A - Game With Sticks|    2.0| 2.6677003|\n",
      "|          harmione|A - Game With Sticks|    2.0| 3.2659001|\n",
      "|azimjon_fayzulloev|A - Game With Sticks|    5.0| 2.7056544|\n",
      "|        Makedonski|A - Game With Sticks|    5.0| 2.3731844|\n",
      "|         long_wave|A - Game With Sticks|    2.0| 2.4129796|\n",
      "|asmaa_mahmoud12345|A - Game With Sticks|    2.0| 2.7768128|\n",
      "|            SavicS|A - Game With Sticks|    2.0| 2.7826312|\n",
      "+------------------+--------------------+-------+----------+\n",
      "only showing top 20 rows\n",
      "\n",
      "+------------------+--------------------+-------+----------+\n",
      "|         user_name|        problem_name|ac_rate|prediction|\n",
      "+------------------+--------------------+-------+----------+\n",
      "|           nvmdava|A - Game With Sticks|    2.0|0.84979427|\n",
      "|    abhay7bhardwaj|A - Game With Sticks|    5.0|0.51024854|\n",
      "|             sahal|A - Game With Sticks|    5.0| 0.8877468|\n",
      "|               mi_|A - Game With Sticks|    2.0| 0.8687662|\n",
      "|           1807006|A - Game With Sticks|    2.0|0.64110094|\n",
      "|       Toirov_Sadi|A - Game With Sticks| 3.3333| 0.8465847|\n",
      "|      kamesh.joshi|A - Game With Sticks|    2.0|0.94829696|\n",
      "|         Nishabila|A - Game With Sticks| 3.3333|  0.386178|\n",
      "|            Monzur|A - Game With Sticks|    4.0|0.40882543|\n",
      "|giorgi.adeishvili2|A - Game With Sticks|   1.25|0.58240026|\n",
      "|         piyal_043|A - Game With Sticks|    2.0| 0.9422552|\n",
      "|    innocent_coder|A - Game With Sticks|    2.0|0.93399173|\n",
      "|            gmdsam|A - Game With Sticks|    2.0| 0.7676456|\n",
      "|       DebSourav33|A - Game With Sticks|    2.0|0.25110352|\n",
      "|          harmione|A - Game With Sticks|    2.0|0.40188774|\n",
      "|azimjon_fayzulloev|A - Game With Sticks|    5.0| 0.7826338|\n",
      "|        Makedonski|A - Game With Sticks|    5.0| 0.6453849|\n",
      "|         long_wave|A - Game With Sticks|    2.0|0.36204803|\n",
      "|asmaa_mahmoud12345|A - Game With Sticks|    2.0| 0.6178709|\n",
      "|            SavicS|A - Game With Sticks|    2.0|0.82162756|\n",
      "+------------------+--------------------+-------+----------+\n",
      "only showing top 20 rows\n",
      "\n"
     ]
    }
   ],
   "source": [
    "# 测试数据集上的测试模型 给予展示\n",
    "\n",
    "# 显性反馈\n",
    "predictionExplicit = modelExplicit.transform(test_data)\n",
    "predictionExplicit.select(\"user_name\", \"problem_name\", \"ac_rate\", \"prediction\").show()\n"
   ]
  },
  {
   "cell_type": "code",
   "execution_count": null,
   "metadata": {},
   "outputs": [],
   "source": []
  },
  {
   "cell_type": "code",
   "execution_count": 10,
   "metadata": {
    "collapsed": true
   },
   "outputs": [
    {
     "name": "stdout",
     "output_type": "stream",
     "text": [
      "+--------------------+--------------------+-------+----------+\n",
      "|           user_name|        problem_name|ac_rate|prediction|\n",
      "+--------------------+--------------------+-------+----------+\n",
      "|            icecuber|C - Permutation r...|    2.0| 1.0823808|\n",
      "|StillBlueSkyOverhead|C - Permutation r...|    5.0|0.54611164|\n",
      "|            beginend|C - Permutation r...| 1.6667| 0.7306187|\n",
      "|          yokozuna57|C - Permutation r...|    5.0|0.33128878|\n",
      "|             zscoder|C - Permutation r...|    2.0| 0.6208643|\n",
      "|         UtahaSenpai|C - Permutation r...| 3.3333|0.50730187|\n",
      "|                Arpa|C - Permutation r...|    2.0| 0.6767923|\n",
      "|              upobir|C - Permutation r...|    5.0| 0.5550964|\n",
      "|          egor.lifar|C - Permutation r...| 1.1111|0.72142345|\n",
      "|            wucstdio|C - Permutation r...|    4.0|0.85658467|\n",
      "|        AlexDmitriev|C - Permutation r...|    5.0|0.56264424|\n",
      "|               Torta|C - Permutation r...| 3.3333|0.58635855|\n",
      "|          zhouzhidao|C - Permutation r...|    4.0| 0.4298212|\n",
      "|        QAQAutoMaton|C - Permutation r...|    2.0| 0.7110543|\n",
      "|           YaKon4ick|C - Permutation r...|    2.0|0.63569784|\n",
      "|             Morokei|C - Permutation r...|    2.0|0.44422954|\n",
      "|        Golovanov399|C - Permutation r...| 3.3333|0.96590364|\n",
      "|           natsugiri|C - Permutation r...|    5.0|0.89955896|\n",
      "|    ershov.stanislav|C - Permutation r...|    5.0|0.33329055|\n",
      "|             znirzej|C - Permutation r...|    2.0|0.38811183|\n",
      "+--------------------+--------------------+-------+----------+\n",
      "only showing top 20 rows\n",
      "\n"
     ]
    }
   ],
   "source": [
    "# 隐性反馈\n",
    "\n",
    "predictionImplicit = modelImplicit.transform(test_data)\n",
    "predictionImplicit.select(\"user_name\", \"problem_name\", \"ac_rate\", \"prediction\").show()"
   ]
  },
  {
   "cell_type": "code",
   "execution_count": 11,
   "metadata": {},
   "outputs": [
    {
     "name": "stdout",
     "output_type": "stream",
     "text": [
      "Explict: Root-mean-square error = 1.223525971425664\n",
      "Implict: Root-meam-square error = 2.585368605445152\n"
     ]
    }
   ],
   "source": [
    "# 使用 RegressionEvaluator 进行模型评估\n",
    "\n",
    "evalutor = RegressionEvaluator(predictionCol='prediction',\n",
    "                              labelCol='ac_rate',\n",
    "                              metricName='rmse')\n",
    "\n",
    "# 显性模型评估\n",
    "rmseExplicit = evalutor.evaluate(predictionExplicit)\n",
    "print(\"Explict: Root-mean-square error = \" + str(rmseExplicit))\n",
    "\n",
    "# 隐性模型评估\n",
    "rmseImplicit = evalutor.evaluate(predictionImplicit)\n",
    "print(\"Implict: Root-meam-square error = \" + str(rmseImplicit))"
   ]
  },
  {
   "cell_type": "code",
   "execution_count": 12,
   "metadata": {},
   "outputs": [],
   "source": [
    "# 使用显性反馈模拟 对于所有的用户推荐题目\n",
    "user_recs = modelExplicit.recommendForAllUsers(3)"
   ]
  },
  {
   "cell_type": "code",
   "execution_count": 13,
   "metadata": {},
   "outputs": [],
   "source": [
    "items = user_recs.select(\"user_id\", \"recommendations.problem_id\", \"recommendations.rating\")"
   ]
  },
  {
   "cell_type": "code",
   "execution_count": 14,
   "metadata": {},
   "outputs": [
    {
     "name": "stdout",
     "output_type": "stream",
     "text": [
      "+-------+---------------------+---------------------------------+\n",
      "|user_id|problem_id           |rating                           |\n",
      "+-------+---------------------+---------------------------------+\n",
      "|1580   |[13221, 13723, 13564]|[4.909134, 4.909134, 4.8953013]  |\n",
      "|5300   |[13564, 14244, 13221]|[4.974255, 4.9506755, 4.9434695] |\n",
      "|21220  |[13564, 14153, 13768]|[4.962142, 4.9615493, 4.958614]  |\n",
      "|21700  |[13221, 13723, 13564]|[3.6338565, 3.6338565, 3.6279285]|\n",
      "|30970  |[13768, 14153, 13564]|[4.988101, 4.9733377, 4.94595]   |\n",
      "|35820  |[13564, 14244, 13221]|[4.9149885, 4.8936396, 4.8793297]|\n",
      "|41890  |[13768, 14153, 13753]|[5.0938563, 5.0400815, 4.974268] |\n",
      "|54190  |[13564, 14244, 13221]|[5.497941, 5.4805136, 5.467965]  |\n",
      "|471    |[13564, 13723, 13221]|[4.817204, 4.8141236, 4.8141236] |\n",
      "|1591   |[13221, 13723, 13564]|[4.750735, 4.750735, 4.7452836]  |\n",
      "+-------+---------------------+---------------------------------+\n",
      "only showing top 10 rows\n",
      "\n"
     ]
    }
   ],
   "source": [
    "items.show(10, False)"
   ]
  },
  {
   "cell_type": "code",
   "execution_count": null,
   "metadata": {},
   "outputs": [],
   "source": []
  },
  {
   "cell_type": "code",
   "execution_count": 15,
   "metadata": {},
   "outputs": [],
   "source": [
    "sc.stop()"
   ]
  },
  {
   "cell_type": "code",
   "execution_count": null,
   "metadata": {},
   "outputs": [],
   "source": []
  }
 ],
 "metadata": {
  "kernelspec": {
   "display_name": "Python 3",
   "language": "python",
   "name": "python3"
  },
  "language_info": {
   "codemirror_mode": {
    "name": "ipython",
    "version": 3
   },
   "file_extension": ".py",
   "mimetype": "text/x-python",
   "name": "python",
   "nbconvert_exporter": "python",
   "pygments_lexer": "ipython3",
   "version": "3.6.8"
  }
 },
 "nbformat": 4,
 "nbformat_minor": 2
}
